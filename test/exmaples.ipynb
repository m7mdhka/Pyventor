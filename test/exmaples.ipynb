{
 "cells": [
  {
   "cell_type": "code",
   "execution_count": 2,
   "metadata": {},
   "outputs": [],
   "source": [
    "from Pyventor import eventListener"
   ]
  },
  {
   "cell_type": "markdown",
   "metadata": {},
   "source": [
    "# Example 1:"
   ]
  },
  {
   "cell_type": "code",
   "execution_count": 3,
   "metadata": {},
   "outputs": [],
   "source": [
    "import re"
   ]
  },
  {
   "cell_type": "code",
   "execution_count": 4,
   "metadata": {},
   "outputs": [],
   "source": [
    "_search = re.search\n",
    "event_system = eventListener()\n",
    "event_system.addEvent(\"onStringSearch\")\n",
    "\n",
    "def search(pattern, string, flags=0):\n",
    "    result = _search(pattern, string, flags)  # Get the result from the original search\n",
    "    event_system.trigger_event(\"onStringSearch\", pattern, string, flags)\n",
    "    return result  # Return the result\n",
    "\n",
    "re.search = search"
   ]
  },
  {
   "cell_type": "code",
   "execution_count": 5,
   "metadata": {},
   "outputs": [
    {
     "data": {
      "text/plain": [
       "True"
      ]
     },
     "execution_count": 5,
     "metadata": {},
     "output_type": "execute_result"
    }
   ],
   "source": [
    "def check(pattern, string):\n",
    "    # We use the original _search here to prevent recursion\n",
    "    if _search('hello', string):\n",
    "        print(f\"you are searching in 'hello' without world!\")\n",
    "    else:\n",
    "        print(f\"you are searching in '{string}'\")\n",
    "\n",
    "event_system.add_event_listener(\"onStringSearch\", check)"
   ]
  },
  {
   "cell_type": "code",
   "execution_count": 8,
   "metadata": {},
   "outputs": [
    {
     "name": "stdout",
     "output_type": "stream",
     "text": [
      "you are searching in 'hello' without world!\n",
      "h\n"
     ]
    }
   ],
   "source": [
    "# Testing\n",
    "result = re.search('h', 'hello')\n",
    "if result:  # Guard against None\n",
    "    print(result.group())"
   ]
  },
  {
   "cell_type": "code",
   "execution_count": 9,
   "metadata": {},
   "outputs": [
    {
     "name": "stdout",
     "output_type": "stream",
     "text": [
      "you are searching in 'marhaba'\n",
      "h\n"
     ]
    }
   ],
   "source": [
    "# Testing\n",
    "result = re.search('h', 'marhaba')\n",
    "if result:  # Guard against None\n",
    "    print(result.group())"
   ]
  },
  {
   "cell_type": "markdown",
   "metadata": {},
   "source": [
    "# Example 2:"
   ]
  },
  {
   "cell_type": "code",
   "execution_count": 10,
   "metadata": {},
   "outputs": [
    {
     "name": "stdout",
     "output_type": "stream",
     "text": [
      "Processing data: example_data\n",
      "Logging data: example_data\n"
     ]
    }
   ],
   "source": [
    "event_system = eventListener()\n",
    "\n",
    "# Define a custom event\n",
    "event_system.addEvent(\"onDataReceived\")\n",
    "\n",
    "# Add event listeners with different priorities\n",
    "def process_data(data):\n",
    "    print(f\"Processing data: {data}\")\n",
    "\n",
    "def log_data(data):\n",
    "    print(f\"Logging data: {data}\")\n",
    "\n",
    "event_system.add_event_listener(\"onDataReceived\", process_data, \"high\")\n",
    "event_system.add_event_listener(\"onDataReceived\", log_data, \"low\")\n",
    "\n",
    "# Trigger the event\n",
    "event_system.trigger_event(\"onDataReceived\", \"example_data\")"
   ]
  },
  {
   "cell_type": "markdown",
   "metadata": {},
   "source": [
    "# Example 3:"
   ]
  },
  {
   "cell_type": "code",
   "execution_count": 11,
   "metadata": {},
   "outputs": [
    {
     "name": "stdout",
     "output_type": "stream",
     "text": [
      "True\n",
      "False\n"
     ]
    }
   ],
   "source": [
    "event_system = eventListener()\n",
    "\n",
    "# Define a custom event\n",
    "event_system.addEvent(\"onLogout\")\n",
    "\n",
    "# Add an event listener\n",
    "def goodbye_user(username):\n",
    "    print(f\"Goodbye, {username}!\")\n",
    "\n",
    "event_system.add_event_listener(\"onLogout\", goodbye_user)\n",
    "\n",
    "# Check if event handler is added\n",
    "print(event_system.isEventHandlerAdded(\"onLogout\", goodbye_user))\n",
    "\n",
    "# Remove the event handler\n",
    "event_system.removeEventHandler(\"onLogout\", goodbye_user)\n",
    "\n",
    "# Check again\n",
    "print(event_system.isEventHandlerAdded(\"onLogout\", goodbye_user))"
   ]
  }
 ],
 "metadata": {
  "kernelspec": {
   "display_name": "Python 3",
   "language": "python",
   "name": "python3"
  },
  "language_info": {
   "codemirror_mode": {
    "name": "ipython",
    "version": 3
   },
   "file_extension": ".py",
   "mimetype": "text/x-python",
   "name": "python",
   "nbconvert_exporter": "python",
   "pygments_lexer": "ipython3",
   "version": "3.10.11"
  },
  "orig_nbformat": 4
 },
 "nbformat": 4,
 "nbformat_minor": 2
}
